{
 "cells": [
  {
   "cell_type": "code",
   "execution_count": 1,
   "metadata": {},
   "outputs": [],
   "source": [
    "import os"
   ]
  },
  {
   "cell_type": "code",
   "execution_count": 2,
   "metadata": {},
   "outputs": [],
   "source": [
    "data=[]\n",
    "labels=[]\n",
    "classes=43"
   ]
  },
  {
   "cell_type": "code",
   "execution_count": 3,
   "metadata": {},
   "outputs": [],
   "source": [
    "cur_path=os.getcwd()"
   ]
  },
  {
   "cell_type": "code",
   "execution_count": 7,
   "metadata": {},
   "outputs": [],
   "source": [
    "import  PIL as pillow\n",
    "from PIL import Image\n",
    "import numpy as np"
   ]
  },
  {
   "cell_type": "code",
   "execution_count": 5,
   "metadata": {},
   "outputs": [],
   "source": [
    "\n",
    "for i in range(classes):\n",
    "    path=os.path.join(cur_path,'train',str(i))\n",
    "    images=os.listdir(path)\n",
    "    for a in images:\n",
    "\n",
    "        image=Image.open(path+'\\\\'+a)\n",
    "        image=image.resize((30,30))\n",
    "        image=np.array(image)\n",
    "        data.append(image)\n",
    "        labels.append(i)\n",
    "     "
   ]
  },
  {
   "cell_type": "code",
   "execution_count": 6,
   "metadata": {},
   "outputs": [],
   "source": [
    "data=np.array(data)"
   ]
  },
  {
   "cell_type": "code",
   "execution_count": 7,
   "metadata": {},
   "outputs": [
    {
     "data": {
      "text/plain": [
       "array([[[[ 75,  78,  80],\n",
       "         [ 74,  76,  78],\n",
       "         [ 85,  86,  84],\n",
       "         ...,\n",
       "         [ 68,  75,  74],\n",
       "         [ 65,  69,  68],\n",
       "         [ 66,  67,  66]],\n",
       "\n",
       "        [[ 83,  84,  86],\n",
       "         [ 80,  80,  82],\n",
       "         [ 88,  88,  83],\n",
       "         ...,\n",
       "         [ 73,  77,  78],\n",
       "         [ 76,  78,  75],\n",
       "         [ 80,  80,  78]],\n",
       "\n",
       "        [[ 78,  78,  80],\n",
       "         [ 86,  85,  86],\n",
       "         [ 90,  89,  90],\n",
       "         ...,\n",
       "         [ 71,  74,  71],\n",
       "         [ 73,  74,  69],\n",
       "         [ 78,  78,  74]],\n",
       "\n",
       "        ...,\n",
       "\n",
       "        [[133, 134, 139],\n",
       "         [123, 127, 132],\n",
       "         [112, 121, 125],\n",
       "         ...,\n",
       "         [ 94,  95,  89],\n",
       "         [ 97,  98,  91],\n",
       "         [ 99, 103,  99]],\n",
       "\n",
       "        [[ 91,  95,  99],\n",
       "         [ 91,  98, 103],\n",
       "         [ 75,  86,  90],\n",
       "         ...,\n",
       "         [104, 102,  96],\n",
       "         [110, 113, 104],\n",
       "         [ 96, 104,  98]],\n",
       "\n",
       "        [[ 85,  84,  87],\n",
       "         [ 95, 101, 107],\n",
       "         [ 63,  76,  81],\n",
       "         ...,\n",
       "         [103, 103,  95],\n",
       "         [ 99, 102,  90],\n",
       "         [ 90,  97,  89]]],\n",
       "\n",
       "\n",
       "       [[[ 69,  73,  73],\n",
       "         [ 76,  79,  79],\n",
       "         [ 75,  77,  77],\n",
       "         ...,\n",
       "         [ 76,  81,  80],\n",
       "         [ 71,  77,  77],\n",
       "         [ 66,  68,  70]],\n",
       "\n",
       "        [[ 65,  69,  69],\n",
       "         [ 74,  76,  76],\n",
       "         [ 84,  84,  83],\n",
       "         ...,\n",
       "         [ 90,  83,  89],\n",
       "         [ 74,  79,  84],\n",
       "         [ 67,  69,  73]],\n",
       "\n",
       "        [[ 63,  68,  68],\n",
       "         [ 71,  72,  72],\n",
       "         [ 81,  79,  77],\n",
       "         ...,\n",
       "         [105,  86,  91],\n",
       "         [ 71,  75,  76],\n",
       "         [ 69,  71,  69]],\n",
       "\n",
       "        ...,\n",
       "\n",
       "        [[164, 139, 142],\n",
       "         [157, 139, 144],\n",
       "         [151, 139, 143],\n",
       "         ...,\n",
       "         [ 76,  77,  79],\n",
       "         [ 77,  80,  76],\n",
       "         [ 90,  93,  82]],\n",
       "\n",
       "        [[102, 103, 104],\n",
       "         [103, 102, 104],\n",
       "         [101,  97, 103],\n",
       "         ...,\n",
       "         [ 80,  81,  82],\n",
       "         [ 92,  95,  91],\n",
       "         [106, 110, 101]],\n",
       "\n",
       "        [[ 72,  74,  74],\n",
       "         [ 82,  83,  82],\n",
       "         [ 92,  92,  99],\n",
       "         ...,\n",
       "         [ 74,  74,  75],\n",
       "         [103, 103, 100],\n",
       "         [101, 104,  96]]],\n",
       "\n",
       "\n",
       "       [[[ 72,  72,  72],\n",
       "         [ 79,  79,  79],\n",
       "         [ 78,  78,  73],\n",
       "         ...,\n",
       "         [ 78,  81,  71],\n",
       "         [ 72,  79,  73],\n",
       "         [ 63,  66,  64]],\n",
       "\n",
       "        [[ 66,  68,  68],\n",
       "         [ 77,  75,  74],\n",
       "         [ 94,  87,  86],\n",
       "         ...,\n",
       "         [108,  93,  87],\n",
       "         [ 77,  80,  77],\n",
       "         [ 74,  75,  74]],\n",
       "\n",
       "        [[ 65,  69,  69],\n",
       "         [ 76,  71,  71],\n",
       "         [112,  98, 101],\n",
       "         ...,\n",
       "         [120,  87,  91],\n",
       "         [ 74,  74,  74],\n",
       "         [ 69,  69,  67]],\n",
       "\n",
       "        ...,\n",
       "\n",
       "        [[146, 133, 117],\n",
       "         [143, 130, 114],\n",
       "         [140, 127, 119],\n",
       "         ...,\n",
       "         [ 75,  76,  75],\n",
       "         [ 72,  75,  75],\n",
       "         [ 73,  76,  77]],\n",
       "\n",
       "        [[114, 121, 113],\n",
       "         [115, 116, 107],\n",
       "         [115, 111, 107],\n",
       "         ...,\n",
       "         [ 71,  73,  73],\n",
       "         [ 79,  81,  80],\n",
       "         [ 92,  94,  92]],\n",
       "\n",
       "        [[ 73,  78,  77],\n",
       "         [ 84,  87,  84],\n",
       "         [ 95,  96,  95],\n",
       "         ...,\n",
       "         [ 70,  71,  71],\n",
       "         [ 81,  82,  79],\n",
       "         [ 95,  97,  91]]],\n",
       "\n",
       "\n",
       "       ...,\n",
       "\n",
       "\n",
       "       [[[ 11,  11,  13],\n",
       "         [ 12,  12,  14],\n",
       "         [ 13,  11,  13],\n",
       "         ...,\n",
       "         [ 12,  11,  13],\n",
       "         [ 12,  11,  13],\n",
       "         [ 12,  10,  13]],\n",
       "\n",
       "        [[ 11,  11,  14],\n",
       "         [ 13,  11,  14],\n",
       "         [ 12,  11,  13],\n",
       "         ...,\n",
       "         [ 12,  11,  13],\n",
       "         [ 12,  12,  13],\n",
       "         [ 12,  11,  12]],\n",
       "\n",
       "        [[  9,  10,  13],\n",
       "         [ 12,  12,  16],\n",
       "         [ 14,  15,  17],\n",
       "         ...,\n",
       "         [ 11,  11,  13],\n",
       "         [ 11,  11,  13],\n",
       "         [ 11,  11,  11]],\n",
       "\n",
       "        ...,\n",
       "\n",
       "        [[ 10,  10,  12],\n",
       "         [ 10,   9,  11],\n",
       "         [  9,   9,  11],\n",
       "         ...,\n",
       "         [ 10,   9,  12],\n",
       "         [ 11,  10,  12],\n",
       "         [ 11,  11,  12]],\n",
       "\n",
       "        [[ 10,   9,  12],\n",
       "         [ 10,   9,  11],\n",
       "         [ 10,   9,  11],\n",
       "         ...,\n",
       "         [ 11,   9,  12],\n",
       "         [ 10,  11,  13],\n",
       "         [ 12,  11,  12]],\n",
       "\n",
       "        [[ 10,   9,  12],\n",
       "         [ 11,  10,  12],\n",
       "         [ 10,   9,  11],\n",
       "         ...,\n",
       "         [ 11,  10,  11],\n",
       "         [ 11,  11,  13],\n",
       "         [ 12,  11,  13]]],\n",
       "\n",
       "\n",
       "       [[[ 13,  13,  15],\n",
       "         [ 14,  13,  16],\n",
       "         [ 13,  11,  13],\n",
       "         ...,\n",
       "         [ 12,  11,  12],\n",
       "         [ 11,  10,  11],\n",
       "         [ 11,  13,  19]],\n",
       "\n",
       "        [[ 14,  12,  14],\n",
       "         [ 13,  12,  14],\n",
       "         [ 14,  12,  14],\n",
       "         ...,\n",
       "         [ 11,  11,  13],\n",
       "         [ 11,  10,  12],\n",
       "         [ 10,  11,  14]],\n",
       "\n",
       "        [[ 12,  11,  12],\n",
       "         [ 13,  12,  13],\n",
       "         [ 13,  12,  14],\n",
       "         ...,\n",
       "         [ 11,  10,  12],\n",
       "         [ 11,  10,  12],\n",
       "         [ 10,   9,  11]],\n",
       "\n",
       "        ...,\n",
       "\n",
       "        [[ 12,  12,  13],\n",
       "         [ 11,  10,  11],\n",
       "         [  9,   9,  11],\n",
       "         ...,\n",
       "         [ 13,  12,  13],\n",
       "         [ 11,   9,  11],\n",
       "         [  9,   9,  10]],\n",
       "\n",
       "        [[ 11,  10,  12],\n",
       "         [ 12,  10,  12],\n",
       "         [ 10,   9,  11],\n",
       "         ...,\n",
       "         [ 14,  13,  15],\n",
       "         [ 11,  10,  10],\n",
       "         [ 10,   9,   9]],\n",
       "\n",
       "        [[ 10,   9,  11],\n",
       "         [ 10,   9,  11],\n",
       "         [ 10,  10,  12],\n",
       "         ...,\n",
       "         [ 14,  12,  14],\n",
       "         [ 11,  10,  11],\n",
       "         [ 10,   9,  10]]],\n",
       "\n",
       "\n",
       "       [[[ 11,  10,  12],\n",
       "         [ 11,  10,  11],\n",
       "         [ 10,  10,  11],\n",
       "         ...,\n",
       "         [ 18,  20,  22],\n",
       "         [ 25,  24,  23],\n",
       "         [ 24,  17,  17]],\n",
       "\n",
       "        [[ 12,  11,  12],\n",
       "         [ 12,  11,  12],\n",
       "         [ 12,  10,  12],\n",
       "         ...,\n",
       "         [ 45,  60,  77],\n",
       "         [ 80,  77,  83],\n",
       "         [ 51,  30,  27]],\n",
       "\n",
       "        [[ 12,  12,  13],\n",
       "         [ 12,  12,  14],\n",
       "         [ 12,  11,  12],\n",
       "         ...,\n",
       "         [ 69,  87, 109],\n",
       "         [ 89,  84, 103],\n",
       "         [ 51,  38,  44]],\n",
       "\n",
       "        ...,\n",
       "\n",
       "        [[ 12,  11,  14],\n",
       "         [ 13,  11,  12],\n",
       "         [ 10,   9,  10],\n",
       "         ...,\n",
       "         [ 10,   9,  11],\n",
       "         [ 10,   9,  11],\n",
       "         [  9,   9,  11]],\n",
       "\n",
       "        [[ 11,  11,  13],\n",
       "         [ 11,  10,  12],\n",
       "         [  9,   9,  10],\n",
       "         ...,\n",
       "         [ 10,   9,  11],\n",
       "         [  9,   9,  11],\n",
       "         [ 10,   9,  11]],\n",
       "\n",
       "        [[ 11,  11,  12],\n",
       "         [ 10,  10,  11],\n",
       "         [  9,   9,  10],\n",
       "         ...,\n",
       "         [ 10,   9,  12],\n",
       "         [ 10,  10,  11],\n",
       "         [ 10,   9,  11]]]], dtype=uint8)"
      ]
     },
     "execution_count": 7,
     "metadata": {},
     "output_type": "execute_result"
    }
   ],
   "source": [
    "data"
   ]
  },
  {
   "cell_type": "code",
   "execution_count": 8,
   "metadata": {},
   "outputs": [],
   "source": [
    "labels=np.array(labels)"
   ]
  },
  {
   "cell_type": "code",
   "execution_count": 9,
   "metadata": {},
   "outputs": [],
   "source": [
    "import sklearn"
   ]
  },
  {
   "cell_type": "code",
   "execution_count": 10,
   "metadata": {},
   "outputs": [],
   "source": [
    "from sklearn.model_selection import train_test_split"
   ]
  },
  {
   "cell_type": "code",
   "execution_count": 11,
   "metadata": {},
   "outputs": [],
   "source": [
    "x_train,x_test,y_train,y_test=train_test_split(data,labels,test_size=0.25,random_state=42)"
   ]
  },
  {
   "cell_type": "code",
   "execution_count": 12,
   "metadata": {},
   "outputs": [],
   "source": [
    "from keras.utils import to_categorical"
   ]
  },
  {
   "cell_type": "code",
   "execution_count": 13,
   "metadata": {},
   "outputs": [],
   "source": [
    "from keras.layers import Dense,Flatten,Conv2D,Dropout,MaxPool2D"
   ]
  },
  {
   "cell_type": "code",
   "execution_count": 14,
   "metadata": {},
   "outputs": [],
   "source": [
    "from keras.models import Sequential"
   ]
  },
  {
   "cell_type": "code",
   "execution_count": 15,
   "metadata": {},
   "outputs": [],
   "source": [
    "y_train=to_categorical(y_train,43)"
   ]
  },
  {
   "cell_type": "code",
   "execution_count": null,
   "metadata": {},
   "outputs": [],
   "source": []
  },
  {
   "cell_type": "code",
   "execution_count": 16,
   "metadata": {},
   "outputs": [],
   "source": [
    "y_test=to_categorical(y_test,43)"
   ]
  },
  {
   "cell_type": "code",
   "execution_count": 17,
   "metadata": {},
   "outputs": [
    {
     "data": {
      "text/plain": [
       "array([[0., 0., 0., ..., 0., 0., 0.],\n",
       "       [0., 0., 0., ..., 0., 0., 0.],\n",
       "       [0., 0., 0., ..., 0., 0., 0.],\n",
       "       ...,\n",
       "       [0., 0., 0., ..., 0., 0., 0.],\n",
       "       [0., 1., 0., ..., 0., 0., 0.],\n",
       "       [0., 0., 0., ..., 0., 0., 0.]], dtype=float32)"
      ]
     },
     "execution_count": 17,
     "metadata": {},
     "output_type": "execute_result"
    }
   ],
   "source": [
    "y_train"
   ]
  },
  {
   "cell_type": "code",
   "execution_count": 18,
   "metadata": {},
   "outputs": [],
   "source": [
    "model=Sequential()"
   ]
  },
  {
   "cell_type": "code",
   "execution_count": 19,
   "metadata": {},
   "outputs": [],
   "source": [
    "model.add(Conv2D(filters=32,kernel_size=(5,5),activation='relu',input_shape=x_train.shape[1:]))"
   ]
  },
  {
   "cell_type": "code",
   "execution_count": 20,
   "metadata": {},
   "outputs": [],
   "source": [
    "model.add(Conv2D(filters=32,kernel_size=(3,3),activation='relu'))"
   ]
  },
  {
   "cell_type": "code",
   "execution_count": 21,
   "metadata": {},
   "outputs": [],
   "source": [
    "model.add(MaxPool2D(pool_size=(2,2)))"
   ]
  },
  {
   "cell_type": "code",
   "execution_count": 22,
   "metadata": {},
   "outputs": [],
   "source": [
    "model.add(Dropout(rate=0.25))"
   ]
  },
  {
   "cell_type": "code",
   "execution_count": 23,
   "metadata": {},
   "outputs": [],
   "source": [
    "model.add(Conv2D(filters=64,kernel_size=(3,3),activation='relu'))"
   ]
  },
  {
   "cell_type": "code",
   "execution_count": 24,
   "metadata": {},
   "outputs": [],
   "source": [
    "model.add(Conv2D(filters=64,kernel_size=(3,3),activation='relu'))"
   ]
  },
  {
   "cell_type": "code",
   "execution_count": 25,
   "metadata": {},
   "outputs": [],
   "source": [
    "model.add(Dropout(rate=0.25))"
   ]
  },
  {
   "cell_type": "code",
   "execution_count": 26,
   "metadata": {},
   "outputs": [],
   "source": [
    "model.add(Flatten())"
   ]
  },
  {
   "cell_type": "code",
   "execution_count": 27,
   "metadata": {},
   "outputs": [],
   "source": [
    "model.add(Dense(256,activation='relu'))"
   ]
  },
  {
   "cell_type": "code",
   "execution_count": 28,
   "metadata": {},
   "outputs": [],
   "source": [
    "model.add(Dense(128,activation='relu'))"
   ]
  },
  {
   "cell_type": "code",
   "execution_count": 29,
   "metadata": {},
   "outputs": [],
   "source": [
    "model.add(Dense(43,activation='sigmoid'))"
   ]
  },
  {
   "cell_type": "code",
   "execution_count": 30,
   "metadata": {},
   "outputs": [],
   "source": [
    "model.compile(optimizer='adam',loss='binary_crossentropy',metrics=['accuracy'])"
   ]
  },
  {
   "cell_type": "code",
   "execution_count": 31,
   "metadata": {},
   "outputs": [
    {
     "name": "stdout",
     "output_type": "stream",
     "text": [
      "Model: \"sequential\"\n",
      "_________________________________________________________________\n",
      "Layer (type)                 Output Shape              Param #   \n",
      "=================================================================\n",
      "conv2d (Conv2D)              (None, 26, 26, 32)        2432      \n",
      "_________________________________________________________________\n",
      "conv2d_1 (Conv2D)            (None, 24, 24, 32)        9248      \n",
      "_________________________________________________________________\n",
      "max_pooling2d (MaxPooling2D) (None, 12, 12, 32)        0         \n",
      "_________________________________________________________________\n",
      "dropout (Dropout)            (None, 12, 12, 32)        0         \n",
      "_________________________________________________________________\n",
      "conv2d_2 (Conv2D)            (None, 10, 10, 64)        18496     \n",
      "_________________________________________________________________\n",
      "conv2d_3 (Conv2D)            (None, 8, 8, 64)          36928     \n",
      "_________________________________________________________________\n",
      "dropout_1 (Dropout)          (None, 8, 8, 64)          0         \n",
      "_________________________________________________________________\n",
      "flatten (Flatten)            (None, 4096)              0         \n",
      "_________________________________________________________________\n",
      "dense (Dense)                (None, 256)               1048832   \n",
      "_________________________________________________________________\n",
      "dense_1 (Dense)              (None, 128)               32896     \n",
      "_________________________________________________________________\n",
      "dense_2 (Dense)              (None, 43)                5547      \n",
      "=================================================================\n",
      "Total params: 1,154,379\n",
      "Trainable params: 1,154,379\n",
      "Non-trainable params: 0\n",
      "_________________________________________________________________\n"
     ]
    }
   ],
   "source": [
    "model.summary()"
   ]
  },
  {
   "cell_type": "code",
   "execution_count": 32,
   "metadata": {},
   "outputs": [
    {
     "name": "stdout",
     "output_type": "stream",
     "text": [
      "Epoch 1/15\n",
      "460/460 [==============================] - 52s 110ms/step - loss: 0.1290 - accuracy: 0.4518 - val_loss: 0.0103 - val_accuracy: 0.9528\n",
      "Epoch 2/15\n",
      "460/460 [==============================] - 49s 107ms/step - loss: 0.0118 - accuracy: 0.9413 - val_loss: 0.0056 - val_accuracy: 0.9753\n",
      "Epoch 3/15\n",
      "460/460 [==============================] - 49s 107ms/step - loss: 0.0057 - accuracy: 0.9750 - val_loss: 0.0031 - val_accuracy: 0.9851\n",
      "Epoch 4/15\n",
      "460/460 [==============================] - 50s 108ms/step - loss: 0.0041 - accuracy: 0.9820 - val_loss: 0.0021 - val_accuracy: 0.9908\n",
      "Epoch 5/15\n",
      "460/460 [==============================] - 49s 107ms/step - loss: 0.0028 - accuracy: 0.9867 - val_loss: 0.0024 - val_accuracy: 0.9895\n",
      "Epoch 6/15\n",
      "460/460 [==============================] - 50s 109ms/step - loss: 0.0035 - accuracy: 0.9835 - val_loss: 0.0021 - val_accuracy: 0.9920\n",
      "Epoch 7/15\n",
      "460/460 [==============================] - 50s 109ms/step - loss: 0.0024 - accuracy: 0.9902 - val_loss: 0.0017 - val_accuracy: 0.9921\n",
      "Epoch 8/15\n",
      "460/460 [==============================] - 50s 109ms/step - loss: 0.0026 - accuracy: 0.9892 - val_loss: 0.0029 - val_accuracy: 0.9853\n",
      "Epoch 9/15\n",
      "460/460 [==============================] - 51s 110ms/step - loss: 0.0021 - accuracy: 0.9910 - val_loss: 0.0022 - val_accuracy: 0.9908\n",
      "Epoch 10/15\n",
      "460/460 [==============================] - 50s 110ms/step - loss: 0.0026 - accuracy: 0.9893 - val_loss: 0.0013 - val_accuracy: 0.9937\n",
      "Epoch 11/15\n",
      "460/460 [==============================] - 51s 110ms/step - loss: 0.0016 - accuracy: 0.9937 - val_loss: 0.0020 - val_accuracy: 0.9932\n",
      "Epoch 12/15\n",
      "460/460 [==============================] - 51s 110ms/step - loss: 0.0023 - accuracy: 0.9902 - val_loss: 0.0013 - val_accuracy: 0.9945\n",
      "Epoch 13/15\n",
      "460/460 [==============================] - 51s 110ms/step - loss: 0.0020 - accuracy: 0.9914 - val_loss: 0.0016 - val_accuracy: 0.9934\n",
      "Epoch 14/15\n",
      "460/460 [==============================] - 50s 110ms/step - loss: 0.0016 - accuracy: 0.9925 - val_loss: 0.0018 - val_accuracy: 0.9915\n",
      "Epoch 15/15\n",
      "460/460 [==============================] - 51s 110ms/step - loss: 0.0012 - accuracy: 0.9949 - val_loss: 0.0020 - val_accuracy: 0.9913\n"
     ]
    }
   ],
   "source": [
    "hiss=model.fit(x_train,y_train,batch_size=64,epochs=15,validation_data=(x_test,y_test))"
   ]
  },
  {
   "cell_type": "code",
   "execution_count": 33,
   "metadata": {},
   "outputs": [],
   "source": [
    "from sklearn.metrics import accuracy_score"
   ]
  },
  {
   "cell_type": "code",
   "execution_count": 34,
   "metadata": {},
   "outputs": [],
   "source": [
    "import pandas as  pd"
   ]
  },
  {
   "cell_type": "code",
   "execution_count": 35,
   "metadata": {},
   "outputs": [],
   "source": [
    "dt=pd.read_csv('testset.csv')"
   ]
  },
  {
   "cell_type": "code",
   "execution_count": 36,
   "metadata": {},
   "outputs": [],
   "source": [
    "labels=dt['ClassId'].values"
   ]
  },
  {
   "cell_type": "code",
   "execution_count": 37,
   "metadata": {},
   "outputs": [],
   "source": [
    "images=dt['Path'].values"
   ]
  },
  {
   "cell_type": "code",
   "execution_count": 38,
   "metadata": {},
   "outputs": [
    {
     "ename": "FileNotFoundError",
     "evalue": "[Errno 2] No such file or directory: 'Test/00000.png'",
     "output_type": "error",
     "traceback": [
      "\u001b[1;31m---------------------------------------------------------------------------\u001b[0m",
      "\u001b[1;31mFileNotFoundError\u001b[0m                         Traceback (most recent call last)",
      "\u001b[1;32m<ipython-input-38-5f84108c1928>\u001b[0m in \u001b[0;36m<module>\u001b[1;34m\u001b[0m\n\u001b[0;32m      1\u001b[0m \u001b[0mdataa\u001b[0m\u001b[1;33m=\u001b[0m\u001b[1;33m[\u001b[0m\u001b[1;33m]\u001b[0m\u001b[1;33m\u001b[0m\u001b[1;33m\u001b[0m\u001b[0m\n\u001b[0;32m      2\u001b[0m \u001b[1;32mfor\u001b[0m \u001b[0mimg\u001b[0m \u001b[1;32min\u001b[0m \u001b[0mimages\u001b[0m\u001b[1;33m:\u001b[0m\u001b[1;33m\u001b[0m\u001b[1;33m\u001b[0m\u001b[0m\n\u001b[1;32m----> 3\u001b[1;33m     \u001b[0mimga\u001b[0m\u001b[1;33m=\u001b[0m\u001b[0mImage\u001b[0m\u001b[1;33m.\u001b[0m\u001b[0mopen\u001b[0m\u001b[1;33m(\u001b[0m\u001b[0mimg\u001b[0m\u001b[1;33m)\u001b[0m\u001b[1;33m\u001b[0m\u001b[1;33m\u001b[0m\u001b[0m\n\u001b[0m\u001b[0;32m      4\u001b[0m     \u001b[0mimga\u001b[0m\u001b[1;33m=\u001b[0m\u001b[0mimga\u001b[0m\u001b[1;33m.\u001b[0m\u001b[0mresize\u001b[0m\u001b[1;33m(\u001b[0m\u001b[1;33m(\u001b[0m\u001b[1;36m30\u001b[0m\u001b[1;33m,\u001b[0m\u001b[1;36m30\u001b[0m\u001b[1;33m)\u001b[0m\u001b[1;33m)\u001b[0m\u001b[1;33m\u001b[0m\u001b[1;33m\u001b[0m\u001b[0m\n\u001b[0;32m      5\u001b[0m     \u001b[0mdataa\u001b[0m\u001b[1;33m.\u001b[0m\u001b[0mappend\u001b[0m\u001b[1;33m(\u001b[0m\u001b[0mnp\u001b[0m\u001b[1;33m.\u001b[0m\u001b[0marray\u001b[0m\u001b[1;33m(\u001b[0m\u001b[0mimga\u001b[0m\u001b[1;33m)\u001b[0m\u001b[1;33m)\u001b[0m\u001b[1;33m\u001b[0m\u001b[1;33m\u001b[0m\u001b[0m\n",
      "\u001b[1;32m~\\anaconda3\\envs\\tensor\\lib\\site-packages\\PIL\\Image.py\u001b[0m in \u001b[0;36mopen\u001b[1;34m(fp, mode, formats)\u001b[0m\n\u001b[0;32m   2910\u001b[0m \u001b[1;33m\u001b[0m\u001b[0m\n\u001b[0;32m   2911\u001b[0m     \u001b[1;32mif\u001b[0m \u001b[0mfilename\u001b[0m\u001b[1;33m:\u001b[0m\u001b[1;33m\u001b[0m\u001b[1;33m\u001b[0m\u001b[0m\n\u001b[1;32m-> 2912\u001b[1;33m         \u001b[0mfp\u001b[0m \u001b[1;33m=\u001b[0m \u001b[0mbuiltins\u001b[0m\u001b[1;33m.\u001b[0m\u001b[0mopen\u001b[0m\u001b[1;33m(\u001b[0m\u001b[0mfilename\u001b[0m\u001b[1;33m,\u001b[0m \u001b[1;34m\"rb\"\u001b[0m\u001b[1;33m)\u001b[0m\u001b[1;33m\u001b[0m\u001b[1;33m\u001b[0m\u001b[0m\n\u001b[0m\u001b[0;32m   2913\u001b[0m         \u001b[0mexclusive_fp\u001b[0m \u001b[1;33m=\u001b[0m \u001b[1;32mTrue\u001b[0m\u001b[1;33m\u001b[0m\u001b[1;33m\u001b[0m\u001b[0m\n\u001b[0;32m   2914\u001b[0m \u001b[1;33m\u001b[0m\u001b[0m\n",
      "\u001b[1;31mFileNotFoundError\u001b[0m: [Errno 2] No such file or directory: 'Test/00000.png'"
     ]
    }
   ],
   "source": []
  },
  {
   "cell_type": "code",
   "execution_count": null,
   "metadata": {},
   "outputs": [],
   "source": [
    "x_test=np.array(dataa)"
   ]
  },
  {
   "cell_type": "code",
   "execution_count": null,
   "metadata": {},
   "outputs": [],
   "source": [
    "x_test"
   ]
  },
  {
   "cell_type": "code",
   "execution_count": null,
   "metadata": {},
   "outputs": [],
   "source": [
    "pred=model.predict_classes(x_test)"
   ]
  },
  {
   "cell_type": "code",
   "execution_count": null,
   "metadata": {},
   "outputs": [],
   "source": [
    "pred"
   ]
  },
  {
   "cell_type": "raw",
   "metadata": {},
   "source": []
  },
  {
   "cell_type": "raw",
   "metadata": {},
   "source": []
  },
  {
   "cell_type": "code",
   "execution_count": null,
   "metadata": {},
   "outputs": [],
   "source": [
    "accuracy_score(labels,pred)"
   ]
  },
  {
   "cell_type": "code",
   "execution_count": 39,
   "metadata": {},
   "outputs": [],
   "source": [
    "model.save('traffic_classifier.h5')"
   ]
  },
  {
   "cell_type": "code",
   "execution_count": 4,
   "metadata": {},
   "outputs": [],
   "source": [
    "from keras.models import load_model\n",
    "import os"
   ]
  },
  {
   "cell_type": "code",
   "execution_count": 2,
   "metadata": {},
   "outputs": [],
   "source": [
    "mod= load_model('traffic_classifier.h5')"
   ]
  },
  {
   "cell_type": "code",
   "execution_count": 5,
   "metadata": {},
   "outputs": [],
   "source": [
    "path=os.path.join('Test','1')"
   ]
  },
  {
   "cell_type": "code",
   "execution_count": 21,
   "metadata": {},
   "outputs": [],
   "source": [
    "image=Image.open('we.jpg')"
   ]
  },
  {
   "cell_type": "code",
   "execution_count": 22,
   "metadata": {},
   "outputs": [],
   "source": [
    "image=image.resize((30,30))"
   ]
  },
  {
   "cell_type": "code",
   "execution_count": 23,
   "metadata": {},
   "outputs": [],
   "source": [
    "image=np.array(image)"
   ]
  },
  {
   "cell_type": "code",
   "execution_count": 24,
   "metadata": {},
   "outputs": [],
   "source": [
    "image=np.expand_dims(image,axis=0)"
   ]
  },
  {
   "cell_type": "code",
   "execution_count": null,
   "metadata": {},
   "outputs": [],
   "source": []
  },
  {
   "cell_type": "code",
   "execution_count": 25,
   "metadata": {},
   "outputs": [
    {
     "data": {
      "text/plain": [
       "28"
      ]
     },
     "execution_count": 25,
     "metadata": {},
     "output_type": "execute_result"
    }
   ],
   "source": [
    "mod.predict_classes([image])[0]"
   ]
  },
  {
   "cell_type": "code",
   "execution_count": null,
   "metadata": {},
   "outputs": [],
   "source": []
  }
 ],
 "metadata": {
  "kernelspec": {
   "display_name": "Python 3",
   "language": "python",
   "name": "python3"
  },
  "language_info": {
   "codemirror_mode": {
    "name": "ipython",
    "version": 3
   },
   "file_extension": ".py",
   "mimetype": "text/x-python",
   "name": "python",
   "nbconvert_exporter": "python",
   "pygments_lexer": "ipython3",
   "version": "3.8.8"
  }
 },
 "nbformat": 4,
 "nbformat_minor": 2
}
